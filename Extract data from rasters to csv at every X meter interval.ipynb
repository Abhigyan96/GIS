{
 "cells": [
  {
   "cell_type": "code",
   "execution_count": null,
   "id": "ebcee19b",
   "metadata": {},
   "outputs": [],
   "source": [
    "import geopandas as gpd\n",
    "import rasterio\n",
    "import pandas as pd\n",
    "\n",
    "# Define the boundary of your region\n",
    "xmin = 718204                                              #THESE ARE EXTENTS FROM RASTER. ( This is an example). To get the extents the rasters have to reprojected to UTM projection.\n",
    "xmax = 798147\n",
    "ymin = 3013022\n",
    "ymax = 3097902\n",
    "\n",
    "# Create a point shapefile withing the given extent at X meter interval. For example here 300 meter interval was taken.\n",
    "points = []\n",
    "x_interval = 300\n",
    "y_interval = 300\n",
    "for x in range(xmin, xmax, x_interval):\n",
    "    for y in range(ymin, ymax, y_interval):\n",
    "        points.append((x, y))\n",
    "\n",
    "# Convert points to a geopandas dataframe\n",
    "df = pd.DataFrame(points, columns=['x', 'y'])\n",
    "gdf = gpd.GeoDataFrame(df, geometry=gpd.points_from_xy(df.x, df.y))\n",
    "\n",
    "# Extract raster data for each point\n",
    "raster_file = '....path..../Raster_Data.tif'\n",
    "with rasterio.open(raster_file) as src:\n",
    "    values = []\n",
    "    for idx, row in gdf.iterrows():\n",
    "        x, y = row['geometry'].x, row['geometry'].y\n",
    "        row, col = src.index(x, y)\n",
    "        value = src.read(1, window=((row, row+1), (col, col+1)))[0][0]\n",
    "        values.append(value)\n",
    "    gdf['value'] = values\n",
    "\n",
    "# Convert UTM coordinates to latitude and longitude\n",
    "from pyproj import Proj, transform\n",
    "inProj = Proj(init='epsg:32646')\n",
    "outProj = Proj(init='epsg:4326')\n",
    "gdf['lon'], gdf['lat'] = transform(inProj, outProj, gdf.x.values, gdf.y.values)\n",
    "\n",
    "# Create a dataframe with columns (Longitude, Latitude, data of raster)\n",
    "result = gdf[['lon', 'lat', 'value']]\n",
    "\n",
    "# Dataframe to csv.\n",
    "result.to_csv('....path..../Csv_Data.csv')"
   ]
  }
 ],
 "metadata": {
  "kernelspec": {
   "display_name": "Python 3 (ipykernel)",
   "language": "python",
   "name": "python3"
  },
  "language_info": {
   "codemirror_mode": {
    "name": "ipython",
    "version": 3
   },
   "file_extension": ".py",
   "mimetype": "text/x-python",
   "name": "python",
   "nbconvert_exporter": "python",
   "pygments_lexer": "ipython3",
   "version": "3.9.13"
  }
 },
 "nbformat": 4,
 "nbformat_minor": 5
}
