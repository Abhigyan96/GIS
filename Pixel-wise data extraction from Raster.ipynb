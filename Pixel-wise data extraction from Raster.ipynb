{
 "cells": [
  {
   "cell_type": "code",
   "execution_count": 1,
   "id": "ab36cbbf",
   "metadata": {},
   "outputs": [],
   "source": [
    "import rasterio\n",
    "import pandas as pd\n",
    "\n",
    "# Load the raster\n",
    "raster_path = \"E:/Flood Inundation/LAKHIMPUR/TIFF_NEW/CN.tif\"\n",
    "raster = rasterio.open(raster_path)\n",
    "\n",
    "# Get the metadata\n",
    "transform = raster.transform\n",
    "width = raster.width\n",
    "height = raster.height\n",
    "\n",
    "# Calculate the spatial coordinates of each pixel\n",
    "coords = []\n",
    "for row in range(height):\n",
    "    for col in range(width):\n",
    "        x, y = transform * (col, row)\n",
    "        coords.append((x, y))\n",
    "\n",
    "# Read the pixel values\n",
    "data = raster.read().flatten()\n",
    "\n",
    "# Create a dataframe\n",
    "df = pd.DataFrame({\n",
    "    \"latitude\": [coord[1] for coord in coords],\n",
    "    \"longitude\": [coord[0] for coord in coords],\n",
    "    \"data\": data\n",
    "})\n",
    "\n",
    "df.to_csv(\"E:/Flood Inundation/LAKHIMPUR/TIFF_NEW/CN.csv\")"
   ]
  },
  {
   "cell_type": "code",
   "execution_count": null,
   "id": "ae78c5f9",
   "metadata": {},
   "outputs": [],
   "source": []
  }
 ],
 "metadata": {
  "kernelspec": {
   "display_name": "Python 3 (ipykernel)",
   "language": "python",
   "name": "python3"
  },
  "language_info": {
   "codemirror_mode": {
    "name": "ipython",
    "version": 3
   },
   "file_extension": ".py",
   "mimetype": "text/x-python",
   "name": "python",
   "nbconvert_exporter": "python",
   "pygments_lexer": "ipython3",
   "version": "3.9.13"
  }
 },
 "nbformat": 4,
 "nbformat_minor": 5
}
