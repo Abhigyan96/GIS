{
 "cells": [
  {
   "cell_type": "code",
   "execution_count": null,
   "id": "22572baa",
   "metadata": {},
   "outputs": [],
   "source": [
    "import numpy as np\n",
    "import pandas as pd\n",
    "import rasterio\n",
    "\n",
    "# Load the CSV file as a pandas dataframe\n",
    "df = pd.read_csv('....path..../CSV.csv')\n",
    "\n",
    "# Define the dimensions and resolution of the output raster\n",
    "height = 493\n",
    "width = 393\n",
    "resolution = 30  # in meters\n",
    "\n",
    "# Define the bounds of the output raster in UTM zone 46 projection\n",
    "xmin = df['longitude'].min()\n",
    "xmax = df['longitude'].max()\n",
    "ymin = df['latitude'].min()\n",
    "ymax = df['latitude'].max()\n",
    "\n",
    "# Create an empty 2D array to hold the raster data\n",
    "raster_data = np.zeros((height, width))\n",
    "\n",
    "# Compute the size of each pixel in the x and y directions\n",
    "pixel_size_x = (xmax - xmin) / (width - 1)\n",
    "pixel_size_y = (ymax - ymin) / (height - 1)\n",
    "\n",
    "# Compute the row and column indices for each point in the dataframe\n",
    "col_indices = ((df['longitude'] - xmin) / pixel_size_x).astype(int)\n",
    "row_indices = ((ymax - df['latitude']) / pixel_size_y).astype(int)\n",
    "\n",
    "# Assign the data values to the corresponding pixels in the raster\n",
    "raster_data[row_indices, col_indices] = df['data']\n",
    "\n",
    "# Define the raster's metadata\n",
    "meta = {\n",
    "    'driver': 'GTiff',\n",
    "    'dtype': raster_data.dtype,\n",
    "    'nodata': 0,\n",
    "    'width': width,\n",
    "    'height': height,\n",
    "    'count': 1,\n",
    "    'crs': 'EPSG:32646',  # UTM zone 46 projection\n",
    "    'transform': rasterio.transform.from_bounds(xmin, ymin, xmax, ymax, width, height)\n",
    "}\n",
    "\n",
    "# Write the raster to a GeoTIFF file\n",
    "with rasterio.open('output_Raster.tif', 'w', **meta) as dst:\n",
    "    dst.write(raster_data, 1)"
   ]
  }
 ],
 "metadata": {
  "kernelspec": {
   "display_name": "Python 3 (ipykernel)",
   "language": "python",
   "name": "python3"
  },
  "language_info": {
   "codemirror_mode": {
    "name": "ipython",
    "version": 3
   },
   "file_extension": ".py",
   "mimetype": "text/x-python",
   "name": "python",
   "nbconvert_exporter": "python",
   "pygments_lexer": "ipython3",
   "version": "3.9.13"
  }
 },
 "nbformat": 4,
 "nbformat_minor": 5
}
